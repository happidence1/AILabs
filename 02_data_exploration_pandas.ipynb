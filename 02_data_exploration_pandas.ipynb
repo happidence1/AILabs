{
  "nbformat": 4,
  "nbformat_minor": 0,
  "metadata": {
    "kernelspec": {
      "display_name": "Python 3",
      "language": "python",
      "name": "python3"
    },
    "language_info": {
      "codemirror_mode": {
        "name": "ipython",
        "version": 3
      },
      "file_extension": ".py",
      "mimetype": "text/x-python",
      "name": "python",
      "nbconvert_exporter": "python",
      "pygments_lexer": "ipython3",
      "version": "3.8.8"
    },
    "colab": {
      "name": "Copy of 02_data_exploration_pandas.ipynb",
      "provenance": [],
      "collapsed_sections": [
        "JA_SG4Ahh_uo",
        "kD9xBWxCh_ut",
        "FPHstHe1h_ux",
        "x506DBAih_u0"
      ],
      "toc_visible": true
    }
  },
  "cells": [
    {
      "cell_type": "markdown",
      "metadata": {
        "id": "NnuQRmbyh_uZ"
      },
      "source": [
        "# Data Exploration with Pandas and Matplotlib\n",
        "\n",
        "Originally created by Dr. [Jian Tao](https://orcid.org/0000-0003-4228-6089), Texas A&M University\n",
        "\n",
        "Oct 29, 2021"
      ]
    },
    {
      "cell_type": "markdown",
      "metadata": {
        "id": "w3IETDZsh_ud"
      },
      "source": [
        "\"In statistics, exploratory data analysis (EDA) is an approach to analyzing data sets to summarize their main characteristics, often with visual methods.\" - Wikipedia. \n",
        "\n",
        "EDA was first proposed by John Tukey for data analysis in 1961. According to John Tukey, EDA involves \"procedures for analyzing data, techniques for interpreting the results of such procedures, ways of planning the gathering of data to make its analysis easier, more precise or more accurate, and all the machinery and results of (mathematical) statistics which apply to analyzing data.\"\n",
        "\n",
        "With pandas and matplotlib, we can quickly and effectively carry out EDA for a data science project. Before we start doing EDA, we will first need to analyze and categorize our data science problem to help us better understant the problem to find the right tools and strategies to solve it.\n",
        "![Data Science Exploration](https://github.com/happidence1/AILabs/blob/master/images/ds_exploration.svg?raw=1)"
      ]
    },
    {
      "cell_type": "markdown",
      "metadata": {
        "id": "GPf9zoAOh_ue"
      },
      "source": [
        "## 1. Basics of Pandas \n",
        "Credits: The following are notes taken while working through [Python for Data Analysis](http://www.amazon.com/Python-Data-Analysis-Wrangling-IPython/dp/1449319793) by Wes McKinney. Only a small part of the original notebook was kept due to the time limit of this lab. Please refer to the orginial notebook if you want to learn more about Pandas.\n",
        "\n",
        "* Series\n",
        "* DataFrame\n",
        "* Dropping Entries\n",
        "* Indexing, Selecting, Filtering\n",
        "* Sorting and Ranking\n",
        "* Input and Output"
      ]
    },
    {
      "cell_type": "code",
      "metadata": {
        "jupyter": {
          "outputs_hidden": false
        },
        "id": "ep8anTZUh_ue"
      },
      "source": [
        "import pandas as pd\n",
        "from pandas import Series, DataFrame\n",
        "import numpy as np"
      ],
      "execution_count": null,
      "outputs": []
    },
    {
      "cell_type": "markdown",
      "metadata": {
        "id": "sJgjjYFYh_uf"
      },
      "source": [
        "### 1.1 Series\n",
        "\n",
        "A Series is a one-dimensional array-like object containing an array of data and an associated array of data labels.  The data can be any NumPy data type and the labels are the Series' index."
      ]
    },
    {
      "cell_type": "markdown",
      "metadata": {
        "id": "j5CZQ6pyh_ug"
      },
      "source": [
        "Create a Series:"
      ]
    },
    {
      "cell_type": "code",
      "metadata": {
        "jupyter": {
          "outputs_hidden": false
        },
        "id": "SP1KeqQgh_uh"
      },
      "source": [
        "ser_1 = Series([1, 1, 2, -3, -5, 8, 13])\n",
        "ser_1"
      ],
      "execution_count": null,
      "outputs": []
    },
    {
      "cell_type": "markdown",
      "metadata": {
        "id": "fp2sCsz6h_uh"
      },
      "source": [
        "Get the array representation of a Series:"
      ]
    },
    {
      "cell_type": "code",
      "metadata": {
        "jupyter": {
          "outputs_hidden": false
        },
        "id": "IgOffF9xh_ui"
      },
      "source": [
        "ser_1.values"
      ],
      "execution_count": null,
      "outputs": []
    },
    {
      "cell_type": "markdown",
      "metadata": {
        "id": "m8-5VzfBh_uj"
      },
      "source": [
        "Index objects are immutable and hold the axis labels and metadata such as names and axis names.\n",
        "\n",
        "Get the index of the Series:"
      ]
    },
    {
      "cell_type": "code",
      "metadata": {
        "jupyter": {
          "outputs_hidden": false
        },
        "id": "kfoyVlyLh_uj"
      },
      "source": [
        "ser_1.index"
      ],
      "execution_count": null,
      "outputs": []
    },
    {
      "cell_type": "markdown",
      "metadata": {
        "id": "rncLNK5Th_uj"
      },
      "source": [
        "Create a Series with a custom index:"
      ]
    },
    {
      "cell_type": "code",
      "metadata": {
        "jupyter": {
          "outputs_hidden": false
        },
        "id": "zus6qKmfh_uk"
      },
      "source": [
        "ser_2 = Series([1, 1, 2, -3, -5], index=['a', 'b', 'c', 'd', 'e'])\n",
        "ser_2"
      ],
      "execution_count": null,
      "outputs": []
    },
    {
      "cell_type": "markdown",
      "metadata": {
        "id": "ZXD18WTMh_uk"
      },
      "source": [
        "Get a value from a Series:"
      ]
    },
    {
      "cell_type": "code",
      "metadata": {
        "jupyter": {
          "outputs_hidden": false
        },
        "id": "QOPLqe-vh_uk"
      },
      "source": [
        "ser_2[4] == ser_2['e']"
      ],
      "execution_count": null,
      "outputs": []
    },
    {
      "cell_type": "markdown",
      "metadata": {
        "id": "JgvMNTVZh_uk"
      },
      "source": [
        "Get a set of values from a Series by passing in a list:"
      ]
    },
    {
      "cell_type": "code",
      "metadata": {
        "jupyter": {
          "outputs_hidden": false
        },
        "id": "CuwDm3zfh_ul"
      },
      "source": [
        "ser_2[['a', 'b', 'c']]"
      ],
      "execution_count": null,
      "outputs": []
    },
    {
      "cell_type": "markdown",
      "metadata": {
        "id": "KERKW-kXh_ul"
      },
      "source": [
        "Get values great than 0:"
      ]
    },
    {
      "cell_type": "code",
      "metadata": {
        "id": "VVlLflP2qVS0"
      },
      "source": [
        "ser_2 > 0"
      ],
      "execution_count": null,
      "outputs": []
    },
    {
      "cell_type": "code",
      "metadata": {
        "jupyter": {
          "outputs_hidden": false
        },
        "id": "1jWQoLFsh_ul"
      },
      "source": [
        "ser_2[ser_2 > 0]"
      ],
      "execution_count": null,
      "outputs": []
    },
    {
      "cell_type": "markdown",
      "metadata": {
        "id": "nV6oRUSVh_ul"
      },
      "source": [
        "Scalar multiply:"
      ]
    },
    {
      "cell_type": "code",
      "metadata": {
        "jupyter": {
          "outputs_hidden": false
        },
        "id": "WT74HeMkh_um"
      },
      "source": [
        "ser_2 * 2"
      ],
      "execution_count": null,
      "outputs": []
    },
    {
      "cell_type": "markdown",
      "metadata": {
        "id": "Ndk_vvywh_um"
      },
      "source": [
        "### 1.2 DataFrame\n",
        "\n",
        "A DataFrame is a tabular data structure containing an ordered collection of columns.  Each column can have a different type.  DataFrames have both row and column indices and is analogous to a dict of Series.  Row and column operations are treated roughly symmetrically.  Columns returned when indexing a DataFrame are views of the underlying data, not a copy.  To obtain a copy, use the Series' copy method.\n",
        "\n",
        "Create a DataFrame:"
      ]
    },
    {
      "cell_type": "code",
      "metadata": {
        "jupyter": {
          "outputs_hidden": false
        },
        "id": "x1GkofDHh_um"
      },
      "source": [
        "data_1 = {'state' : ['VA', 'VA', 'VA', 'MD', 'MD'],\n",
        "          'year' : [2012, 2013, 2014, 2014, 2015],\n",
        "          'pop' : [5.0, 5.1, 5.2, 4.0, 4.1]}\n",
        "df_1 = DataFrame(data_1)\n",
        "df_1"
      ],
      "execution_count": null,
      "outputs": []
    },
    {
      "cell_type": "markdown",
      "metadata": {
        "id": "Cxd4V3I6h_um"
      },
      "source": [
        "Create a DataFrame specifying a sequence of columns:"
      ]
    },
    {
      "cell_type": "code",
      "metadata": {
        "jupyter": {
          "outputs_hidden": false
        },
        "id": "YRiF1L5-h_un"
      },
      "source": [
        "df_2 = DataFrame(data_1, columns=['year', 'state', 'pop'])\n",
        "df_2"
      ],
      "execution_count": null,
      "outputs": []
    },
    {
      "cell_type": "markdown",
      "metadata": {
        "id": "xZAOqUm8h_un"
      },
      "source": [
        "Like Series, columns that are not present in the data are NaN:"
      ]
    },
    {
      "cell_type": "code",
      "metadata": {
        "jupyter": {
          "outputs_hidden": false
        },
        "id": "x6SMoZIih_un"
      },
      "source": [
        "df_3 = DataFrame(data_1, columns=['year', 'state', 'pop', 'unempl'])\n",
        "df_3"
      ],
      "execution_count": null,
      "outputs": []
    },
    {
      "cell_type": "markdown",
      "metadata": {
        "id": "7vZuTIvyh_un"
      },
      "source": [
        "Retrieve a column by key, returning a Series:\n"
      ]
    },
    {
      "cell_type": "code",
      "metadata": {
        "jupyter": {
          "outputs_hidden": false
        },
        "id": "XC2QgZmbh_un"
      },
      "source": [
        "df_3['state']"
      ],
      "execution_count": null,
      "outputs": []
    },
    {
      "cell_type": "markdown",
      "metadata": {
        "id": "5IlyLl9mh_un"
      },
      "source": [
        "Retrive a column by attribute, returning a Series:"
      ]
    },
    {
      "cell_type": "code",
      "metadata": {
        "jupyter": {
          "outputs_hidden": false
        },
        "id": "Lk9LQB1ch_uo"
      },
      "source": [
        "df_3.year"
      ],
      "execution_count": null,
      "outputs": []
    },
    {
      "cell_type": "markdown",
      "metadata": {
        "id": "cWYFTzB8h_uo"
      },
      "source": [
        "Retrieve a row by position:"
      ]
    },
    {
      "cell_type": "code",
      "metadata": {
        "jupyter": {
          "outputs_hidden": false
        },
        "id": "GbjzELa4h_uo"
      },
      "source": [
        "df_3.loc[0]"
      ],
      "execution_count": null,
      "outputs": []
    },
    {
      "cell_type": "markdown",
      "metadata": {
        "id": "gkvbjlLUh_uo"
      },
      "source": [
        "Update a column by assignment:"
      ]
    },
    {
      "cell_type": "markdown",
      "metadata": {
        "id": "JA_SG4Ahh_uo"
      },
      "source": [
        "### 1.3 Dropping Entries"
      ]
    },
    {
      "cell_type": "markdown",
      "metadata": {
        "id": "_9SdcBEzh_uo"
      },
      "source": [
        "Drop rows from a Series or DataFrame:"
      ]
    },
    {
      "cell_type": "code",
      "metadata": {
        "id": "6M12-vbBtdOp"
      },
      "source": [
        "df_3"
      ],
      "execution_count": null,
      "outputs": []
    },
    {
      "cell_type": "code",
      "metadata": {
        "jupyter": {
          "outputs_hidden": false
        },
        "id": "1IWo1hELh_uo"
      },
      "source": [
        "df_4 = df_3.drop([0,1])\n",
        "df_4"
      ],
      "execution_count": null,
      "outputs": []
    },
    {
      "cell_type": "markdown",
      "metadata": {
        "id": "rZao6qk7h_up"
      },
      "source": [
        "Drop columns from a DataFrame:"
      ]
    },
    {
      "cell_type": "code",
      "metadata": {
        "jupyter": {
          "outputs_hidden": false
        },
        "id": "0CPgIcYgh_up"
      },
      "source": [
        "df_4 = df_4.drop('unempl', axis=1)\n",
        "df_4"
      ],
      "execution_count": null,
      "outputs": []
    },
    {
      "cell_type": "markdown",
      "metadata": {
        "id": "Xv8JaX9Jh_up"
      },
      "source": [
        "### 1.4 Indexing, Selecting, Filtering"
      ]
    },
    {
      "cell_type": "markdown",
      "metadata": {
        "id": "WlhLvFZbh_up"
      },
      "source": [
        "Series indexing is similar to NumPy array indexing with the added bonus of being able to use the Series' index values."
      ]
    },
    {
      "cell_type": "code",
      "metadata": {
        "jupyter": {
          "outputs_hidden": false
        },
        "id": "CGVltjAxh_up"
      },
      "source": [
        "ser_2"
      ],
      "execution_count": null,
      "outputs": []
    },
    {
      "cell_type": "markdown",
      "metadata": {
        "id": "tKXIx18oh_up"
      },
      "source": [
        "Select a value from a Series:"
      ]
    },
    {
      "cell_type": "code",
      "metadata": {
        "jupyter": {
          "outputs_hidden": false
        },
        "id": "GERI66pTh_up"
      },
      "source": [
        "ser_2[0] == ser_2['a']"
      ],
      "execution_count": null,
      "outputs": []
    },
    {
      "cell_type": "markdown",
      "metadata": {
        "id": "05WsxcwWh_uq"
      },
      "source": [
        "Select a slice from a Series:"
      ]
    },
    {
      "cell_type": "code",
      "metadata": {
        "jupyter": {
          "outputs_hidden": false
        },
        "id": "G-vMcG--h_uq"
      },
      "source": [
        "ser_2[1:4]"
      ],
      "execution_count": null,
      "outputs": []
    },
    {
      "cell_type": "markdown",
      "metadata": {
        "id": "2l7jlRAZh_uq"
      },
      "source": [
        "Select specific values from a Series:"
      ]
    },
    {
      "cell_type": "code",
      "metadata": {
        "jupyter": {
          "outputs_hidden": false
        },
        "id": "1zLZXkjfh_uq"
      },
      "source": [
        "ser_2[['b', 'c', 'd']]"
      ],
      "execution_count": null,
      "outputs": []
    },
    {
      "cell_type": "markdown",
      "metadata": {
        "id": "LOLWfryQh_uq"
      },
      "source": [
        "Select from a Series based on a filter:"
      ]
    },
    {
      "cell_type": "code",
      "metadata": {
        "id": "zjKzs6RYuZ83"
      },
      "source": [
        "type(ser_2 > 0)"
      ],
      "execution_count": null,
      "outputs": []
    },
    {
      "cell_type": "code",
      "metadata": {
        "jupyter": {
          "outputs_hidden": false
        },
        "id": "1OG3uMS5h_uq"
      },
      "source": [
        "ser_2[ser_2 > 0]"
      ],
      "execution_count": null,
      "outputs": []
    },
    {
      "cell_type": "markdown",
      "metadata": {
        "id": "nZUjwztph_uq"
      },
      "source": [
        "Select a slice from a Series with labels (note the end point is inclusive):"
      ]
    },
    {
      "cell_type": "code",
      "metadata": {
        "jupyter": {
          "outputs_hidden": false
        },
        "id": "7KRtnE4-h_ur"
      },
      "source": [
        "ser_2['a':'b']"
      ],
      "execution_count": null,
      "outputs": []
    },
    {
      "cell_type": "markdown",
      "metadata": {
        "id": "a3XpDOnnh_ur"
      },
      "source": [
        "Assign to a Series slice (note the end point is inclusive):"
      ]
    },
    {
      "cell_type": "code",
      "metadata": {
        "jupyter": {
          "outputs_hidden": false
        },
        "id": "EBm15kZIh_ur"
      },
      "source": [
        "ser_2['a':'b'] = 0\n",
        "ser_2"
      ],
      "execution_count": null,
      "outputs": []
    },
    {
      "cell_type": "markdown",
      "metadata": {
        "id": "5oTy1r4-h_ur"
      },
      "source": [
        "Pandas supports indexing into a DataFrame."
      ]
    },
    {
      "cell_type": "code",
      "metadata": {
        "jupyter": {
          "outputs_hidden": false
        },
        "id": "duIYU1Wdh_ur"
      },
      "source": [
        "df_3"
      ],
      "execution_count": null,
      "outputs": []
    },
    {
      "cell_type": "markdown",
      "metadata": {
        "id": "4oRNfG2wh_us"
      },
      "source": [
        "Select specified columns from a DataFrame:"
      ]
    },
    {
      "cell_type": "code",
      "metadata": {
        "jupyter": {
          "outputs_hidden": false
        },
        "id": "lz2MLk5_h_us"
      },
      "source": [
        "df_3[['pop', 'unempl']]"
      ],
      "execution_count": null,
      "outputs": []
    },
    {
      "cell_type": "markdown",
      "metadata": {
        "id": "I8HsEvtQh_us"
      },
      "source": [
        "Select a slice from a DataFrame:"
      ]
    },
    {
      "cell_type": "code",
      "metadata": {
        "jupyter": {
          "outputs_hidden": false
        },
        "id": "-BmJ2EHkh_us"
      },
      "source": [
        "df_3[:2]"
      ],
      "execution_count": null,
      "outputs": []
    },
    {
      "cell_type": "markdown",
      "metadata": {
        "id": "8pR3I3g0h_us"
      },
      "source": [
        "Select from a DataFrame based on a filter:"
      ]
    },
    {
      "cell_type": "code",
      "metadata": {
        "jupyter": {
          "outputs_hidden": false
        },
        "id": "yWUMjogBh_ut"
      },
      "source": [
        "df_3[df_3['pop'] > 5]"
      ],
      "execution_count": null,
      "outputs": []
    },
    {
      "cell_type": "markdown",
      "metadata": {
        "id": "c1rnwjPAh_ut"
      },
      "source": [
        "Select a slice of rows from a DataFrame (note the end point is inclusive):"
      ]
    },
    {
      "cell_type": "markdown",
      "metadata": {
        "id": "kD9xBWxCh_ut"
      },
      "source": [
        "### 1.5 Sorting"
      ]
    },
    {
      "cell_type": "code",
      "metadata": {
        "jupyter": {
          "outputs_hidden": false
        },
        "id": "6JJwVrJch_ut"
      },
      "source": [
        "ser_2"
      ],
      "execution_count": null,
      "outputs": []
    },
    {
      "cell_type": "markdown",
      "metadata": {
        "id": "icvwLXQSh_ut"
      },
      "source": [
        "Sort a Series by its index:"
      ]
    },
    {
      "cell_type": "code",
      "metadata": {
        "jupyter": {
          "outputs_hidden": false
        },
        "id": "kwKOHO2Eh_ut"
      },
      "source": [
        "ser_2.sort_index()"
      ],
      "execution_count": null,
      "outputs": []
    },
    {
      "cell_type": "markdown",
      "metadata": {
        "id": "kzGK3aYFh_ut"
      },
      "source": [
        "Sort a Series by its values:"
      ]
    },
    {
      "cell_type": "code",
      "metadata": {
        "jupyter": {
          "outputs_hidden": false
        },
        "id": "nRPwGpXEh_ut"
      },
      "source": [
        "ser_2.sort_values(ascending=False)"
      ],
      "execution_count": null,
      "outputs": []
    },
    {
      "cell_type": "code",
      "metadata": {
        "jupyter": {
          "outputs_hidden": false
        },
        "id": "j1MGtnxeh_ut"
      },
      "source": [
        "df_12 = DataFrame(np.arange(12).reshape((3, 4)),\n",
        "                  index=['three', 'one', 'two'],\n",
        "                  columns=['c', 'a', 'b', 'd'])\n",
        "df_12"
      ],
      "execution_count": null,
      "outputs": []
    },
    {
      "cell_type": "markdown",
      "metadata": {
        "id": "Lo84e6bth_uu"
      },
      "source": [
        "Sort a DataFrame by its index:"
      ]
    },
    {
      "cell_type": "code",
      "metadata": {
        "jupyter": {
          "outputs_hidden": false
        },
        "id": "DphcUz8Ph_uu"
      },
      "source": [
        "df_12.sort_index()"
      ],
      "execution_count": null,
      "outputs": []
    },
    {
      "cell_type": "markdown",
      "metadata": {
        "id": "FQw8WiNKh_uu"
      },
      "source": [
        "Sort a DataFrame by columns in descending order:"
      ]
    },
    {
      "cell_type": "code",
      "metadata": {
        "jupyter": {
          "outputs_hidden": false
        },
        "id": "yiMbxjP6h_uu"
      },
      "source": [
        "df_12.sort_index(axis=1, ascending=False)"
      ],
      "execution_count": null,
      "outputs": []
    },
    {
      "cell_type": "markdown",
      "metadata": {
        "id": "V28GP30ih_uu"
      },
      "source": [
        "Sort a DataFrame's values by column:"
      ]
    },
    {
      "cell_type": "code",
      "metadata": {
        "jupyter": {
          "outputs_hidden": false
        },
        "id": "chrWtk2rh_uu"
      },
      "source": [
        "df_12.sort_values(by=['d', 'c'])"
      ],
      "execution_count": null,
      "outputs": []
    },
    {
      "cell_type": "markdown",
      "metadata": {
        "id": "FYnacm0vh_uw"
      },
      "source": [
        "### 1.6 Input and Output\n",
        "* Reading\n",
        "* Writing"
      ]
    },
    {
      "cell_type": "markdown",
      "metadata": {
        "id": "tOLTg3ICh_uw"
      },
      "source": [
        "#### Reading"
      ]
    },
    {
      "cell_type": "markdown",
      "metadata": {
        "id": "A5Zv804uh_uw"
      },
      "source": [
        "Read data from a CSV file into a DataFrame (use sep='\\t' for TSV):"
      ]
    },
    {
      "cell_type": "code",
      "metadata": {
        "jupyter": {
          "outputs_hidden": false
        },
        "id": "3jHatJZkh_uw"
      },
      "source": [
        "df_1 = pd.read_csv(\"./data/ozone.csv\")"
      ],
      "execution_count": null,
      "outputs": []
    },
    {
      "cell_type": "markdown",
      "metadata": {
        "id": "hDtSA-fRh_ux"
      },
      "source": [
        "Get a summary of the DataFrame:"
      ]
    },
    {
      "cell_type": "code",
      "metadata": {
        "jupyter": {
          "outputs_hidden": false
        },
        "id": "ogYW5YDZh_ux"
      },
      "source": [
        "df_1.describe()"
      ],
      "execution_count": null,
      "outputs": []
    },
    {
      "cell_type": "markdown",
      "metadata": {
        "id": "sO8BfWKqh_ux"
      },
      "source": [
        "List the first five rows of the DataFrame:"
      ]
    },
    {
      "cell_type": "code",
      "metadata": {
        "jupyter": {
          "outputs_hidden": false
        },
        "id": "nwarmWxHh_ux"
      },
      "source": [
        "df_1.head()"
      ],
      "execution_count": null,
      "outputs": []
    },
    {
      "cell_type": "markdown",
      "metadata": {
        "id": "FPHstHe1h_ux"
      },
      "source": [
        "#### Writing"
      ]
    },
    {
      "cell_type": "markdown",
      "metadata": {
        "id": "HKaKZwKjh_ux"
      },
      "source": [
        "Create a copy of the CSV file, encoded in UTF-8 and hiding the index and header labels:"
      ]
    },
    {
      "cell_type": "code",
      "metadata": {
        "jupyter": {
          "outputs_hidden": false
        },
        "id": "XTonxFl3h_ux"
      },
      "source": [
        "df_1.to_csv('./data/ozone_copy.csv', \n",
        "            encoding='utf-8', \n",
        "            index=False, \n",
        "            header=False)"
      ],
      "execution_count": null,
      "outputs": []
    },
    {
      "cell_type": "markdown",
      "metadata": {
        "id": "z5vE8cgrh_uy"
      },
      "source": [
        "## 2. Matplotlib\n",
        "\n",
        "Only a small part of the original notebook was kept due to the time limit of this lab. The complete notebook can be found at [this link](https://github.com/jtao/tamids/blob/master/ecen489/intro_matplotlib/matplotlib.ipynb).\n",
        "### Figure\n",
        "* Figure is the object that keeps the whole image output. Adjustable parameters include:\n",
        "* Image size (set_size_inches())\n",
        "* Whether to use tight_layout (set_tight_layout())\n",
        "\n",
        "### Axes\n",
        "* Axes object represents the pair of axis that contain a single plot (x-axis and y-axis). The Axes object also has more adjustable parameters:\n",
        "  * The plot frame (set_frame_on() or set_frame_off())\n",
        "  * X-axis and Y-axis limits (set_xlim() and set_ylim())\n",
        "  * X-axis and Y-axis Labels (set_xlabel() and set_ylabel())\n",
        "  * The plot title (set_title())\n",
        "![Anatony of a Figure](https://github.com/happidence1/AILabs/blob/master/images/matplotlib.svg?raw=1)"
      ]
    },
    {
      "cell_type": "markdown",
      "metadata": {
        "id": "XXl1RmgNh_uy"
      },
      "source": [
        "### 1.1 The matplotlib object-oriented API"
      ]
    },
    {
      "cell_type": "markdown",
      "metadata": {
        "id": "rZsBlR-7h_uy"
      },
      "source": [
        "The main idea with object-oriented programming is to have objects that one can apply functions and actions on, and no object or program states should be global (such as the MATLAB-like API). The real advantage of this approach becomes apparent when more than one figure is created, or when a figure contains more than one subplot. \n",
        "\n",
        "To use the object-oriented API we start out very much like in the previous example, but instead of creating a new global figure instance we store a reference to the newly created figure instance in the `fig` variable, and from it we create a new axis instance `axes` using the `add_axes` method in the `Figure` class instance `fig`:"
      ]
    },
    {
      "cell_type": "code",
      "metadata": {
        "id": "D7dQXBplh_uy"
      },
      "source": [
        "import matplotlib.pyplot as plt\n",
        "import numpy as np\n",
        "\n",
        "x = np.linspace(0, 5, 10)\n",
        "y = x ** 2\n",
        "\n",
        "fig = plt.figure()\n",
        "\n",
        "axes = fig.add_axes([0, 0, 1, 1]) # left, bottom, width, height (range 0 to 1)\n",
        "\n",
        "axes.plot(x, y, 'r')\n",
        "\n",
        "axes.set_xlabel('x')\n",
        "axes.set_ylabel('y')\n",
        "axes.set_title('title');"
      ],
      "execution_count": null,
      "outputs": []
    },
    {
      "cell_type": "markdown",
      "metadata": {
        "id": "INqevu-yh_uy"
      },
      "source": [
        "If we don't care about being explicit about where our plot axes are placed in the figure canvas, then we can use one of the many axis layout managers in matplotlib."
      ]
    },
    {
      "cell_type": "code",
      "metadata": {
        "id": "jRHqHH-Hh_uy"
      },
      "source": [
        "fig, axes = plt.subplots()\n",
        "\n",
        "axes.plot(x, y, 'r')\n",
        "axes.set_xlabel('x')\n",
        "axes.set_ylabel('y')\n",
        "axes.set_title('title');"
      ],
      "execution_count": null,
      "outputs": []
    },
    {
      "cell_type": "code",
      "metadata": {
        "id": "amgUBAbdh_uy"
      },
      "source": [
        "fig, axes = plt.subplots(nrows=1, ncols=2)\n",
        "\n",
        "for ax in axes:\n",
        "    ax.plot(x, y, 'r')\n",
        "    ax.set_xlabel('x')\n",
        "    ax.set_ylabel('y')\n",
        "    ax.set_title('title')"
      ],
      "execution_count": null,
      "outputs": []
    },
    {
      "cell_type": "markdown",
      "metadata": {
        "id": "eKVjl85Ih_uz"
      },
      "source": [
        "### 1.2 Colormap and contour figures"
      ]
    },
    {
      "cell_type": "markdown",
      "metadata": {
        "id": "ozhZ5893h_uz"
      },
      "source": [
        "Colormaps and contour figures are useful for plotting functions of two variables. In most of these functions we will use a colormap to encode one dimension of the data. There are a number of predefined colormaps. It is relatively straightforward to define custom colormaps. For a list of pre-defined colormaps, see: http://www.scipy.org/Cookbook/Matplotlib/Show_colormaps"
      ]
    },
    {
      "cell_type": "code",
      "metadata": {
        "id": "AuyrlDMWh_uz"
      },
      "source": [
        "alpha = 0.7\n",
        "phi_ext = 2 * np.pi * 0.5\n",
        "\n",
        "def flux_qubit_potential(phi_m, phi_p):\n",
        "    return 2 + alpha - 2 * np.cos(phi_p) * np.cos(phi_m) - alpha * np.cos(phi_ext - 2*phi_p)"
      ],
      "execution_count": null,
      "outputs": []
    },
    {
      "cell_type": "code",
      "metadata": {
        "id": "E8eYipbJh_uz"
      },
      "source": [
        "phi_m = np.linspace(0, 2*np.pi, 100)\n",
        "phi_p = np.linspace(0, 2*np.pi, 100)\n",
        "X,Y = np.meshgrid(phi_p, phi_m)\n",
        "Z = flux_qubit_potential(X, Y).T"
      ],
      "execution_count": null,
      "outputs": []
    },
    {
      "cell_type": "markdown",
      "metadata": {
        "id": "DmRRHf7rh_uz"
      },
      "source": [
        "#### pcolor"
      ]
    },
    {
      "cell_type": "code",
      "metadata": {
        "id": "MrFMP-Pxh_uz"
      },
      "source": [
        "fig, ax = plt.subplots()\n",
        "\n",
        "p = ax.pcolor(X/(2*np.pi), Y/(2*np.pi), Z, vmin=abs(Z).min(), vmax=abs(Z).max())\n",
        "cb = fig.colorbar(p, ax=ax)"
      ],
      "execution_count": null,
      "outputs": []
    },
    {
      "cell_type": "markdown",
      "metadata": {
        "id": "XTnXSPyeh_uz"
      },
      "source": [
        "#### imshow"
      ]
    },
    {
      "cell_type": "code",
      "metadata": {
        "id": "bx1SunNHh_uz"
      },
      "source": [
        "fig, ax = plt.subplots()\n",
        "\n",
        "im = ax.imshow(Z,  vmin=abs(Z).min(), vmax=abs(Z).max(), extent=[0, 1, 0, 1])\n",
        "im.set_interpolation('bilinear')\n",
        "\n",
        "cb = fig.colorbar(im, ax=ax)"
      ],
      "execution_count": null,
      "outputs": []
    },
    {
      "cell_type": "markdown",
      "metadata": {
        "id": "fAI04zV8h_u0"
      },
      "source": [
        "#### contour"
      ]
    },
    {
      "cell_type": "code",
      "metadata": {
        "id": "B416Txxrh_u0"
      },
      "source": [
        "fig, ax = plt.subplots()\n",
        "\n",
        "cnt = ax.contour(Z, vmin=abs(Z).min(), vmax=abs(Z).max(), extent=[0, 1, 0, 1])"
      ],
      "execution_count": null,
      "outputs": []
    },
    {
      "cell_type": "markdown",
      "metadata": {
        "id": "o0bXoXdzh_u0"
      },
      "source": [
        "### 1.3 3D figures"
      ]
    },
    {
      "cell_type": "markdown",
      "metadata": {
        "id": "xTUoi8wVh_u0"
      },
      "source": [
        "To use 3D graphics in matplotlib, we first need to create an instance of the `Axes3D` class. 3D axes can be added to a matplotlib figure canvas in exactly the same way as 2D axes; or, more conveniently, by passing a `projection='3d'` keyword argument to the `add_axes` or `add_subplot` methods."
      ]
    },
    {
      "cell_type": "code",
      "metadata": {
        "id": "_GWWwawdh_u0"
      },
      "source": [
        "from mpl_toolkits.mplot3d.axes3d import Axes3D"
      ],
      "execution_count": null,
      "outputs": []
    },
    {
      "cell_type": "markdown",
      "metadata": {
        "id": "LDOP-b7Nh_u0"
      },
      "source": [
        "#### Surface plots"
      ]
    },
    {
      "cell_type": "code",
      "metadata": {
        "id": "mIaAonpRh_u0"
      },
      "source": [
        "fig = plt.figure(figsize=(14,6))\n",
        "\n",
        "# `ax` is a 3D-aware axis instance because of the projection='3d' keyword argument to add_subplot\n",
        "ax = fig.add_subplot(1, 2, 1, projection='3d')\n",
        "\n",
        "p = ax.plot_surface(X, Y, Z, rstride=4, cstride=4, linewidth=0)\n",
        "\n",
        "# surface_plot with color grading and color bar\n",
        "ax = fig.add_subplot(1, 2, 2, projection='3d')\n",
        "p = ax.plot_surface(X, Y, Z, rstride=1, cstride=1, linewidth=0, antialiased=False)\n",
        "cb = fig.colorbar(p, shrink=0.5)"
      ],
      "execution_count": null,
      "outputs": []
    },
    {
      "cell_type": "markdown",
      "metadata": {
        "id": "x506DBAih_u0"
      },
      "source": [
        "#### Wire-frame plot"
      ]
    },
    {
      "cell_type": "code",
      "metadata": {
        "id": "3nzMaxYTh_u1"
      },
      "source": [
        "fig = plt.figure(figsize=(8,6))\n",
        "\n",
        "ax = fig.add_subplot(1, 1, 1, projection='3d')\n",
        "\n",
        "p = ax.plot_wireframe(X, Y, Z, rstride=4, cstride=4)"
      ],
      "execution_count": null,
      "outputs": []
    },
    {
      "cell_type": "markdown",
      "metadata": {
        "id": "vxba6J5ah_u1"
      },
      "source": [
        "#### Coutour plots with projections"
      ]
    },
    {
      "cell_type": "code",
      "metadata": {
        "id": "vhzbrK9eh_u1"
      },
      "source": [
        "fig = plt.figure(figsize=(8,6))\n",
        "\n",
        "ax = fig.add_subplot(1,1,1, projection='3d')\n",
        "\n",
        "ax.plot_surface(X, Y, Z, rstride=4, cstride=4, alpha=0.25)\n",
        "cset = ax.contour(X, Y, Z, zdir='z', offset=-np.pi)\n",
        "cset = ax.contour(X, Y, Z, zdir='x', offset=-np.pi)\n",
        "cset = ax.contour(X, Y, Z, zdir='y', offset=3*np.pi)\n",
        "\n",
        "ax.set_xlim3d(-np.pi, 2*np.pi);\n",
        "ax.set_ylim3d(0, 3*np.pi);\n",
        "ax.set_zlim3d(-np.pi, 2*np.pi);"
      ],
      "execution_count": null,
      "outputs": []
    },
    {
      "cell_type": "markdown",
      "metadata": {
        "id": "geW93a3VmBhv"
      },
      "source": [
        "## 3. Case Study"
      ]
    },
    {
      "cell_type": "markdown",
      "metadata": {
        "id": "toW3UJQ-L_GR"
      },
      "source": [
        "#### Example Data\n",
        "\n",
        "\n",
        "File name: king_county_house_data.csv\n",
        "\n",
        "If it doesn't work, replace the file name with the path to the file. "
      ]
    },
    {
      "cell_type": "code",
      "metadata": {
        "id": "JFwHs0BFL_GS"
      },
      "source": [
        "df = pd.read_csv(\"king_county_house_data.csv\")"
      ],
      "execution_count": null,
      "outputs": []
    },
    {
      "cell_type": "markdown",
      "metadata": {
        "id": "7Sues83OLMsI"
      },
      "source": [
        "#### Check the data\n",
        "\n",
        "Just some normal checks to see what kind of data we have. \n",
        "\n",
        "You aren't ready to plot until you know what you're plotting. "
      ]
    },
    {
      "cell_type": "markdown",
      "metadata": {
        "id": "hbByVDU-gQX8"
      },
      "source": [
        "##### Check 1\n",
        "The first few lines"
      ]
    },
    {
      "cell_type": "code",
      "metadata": {
        "id": "aL8Ulc5hL_GS"
      },
      "source": [
        "df.head(5)"
      ],
      "execution_count": null,
      "outputs": []
    },
    {
      "cell_type": "markdown",
      "metadata": {
        "id": "XOKkK9jbgO7c"
      },
      "source": [
        "##### Check 2\n",
        "How many are there?\n"
      ]
    },
    {
      "cell_type": "code",
      "metadata": {
        "id": "1tswJDpBYhsk"
      },
      "source": [
        "df.shape"
      ],
      "execution_count": null,
      "outputs": []
    },
    {
      "cell_type": "markdown",
      "metadata": {
        "id": "cMUodgqsgUja"
      },
      "source": [
        "##### Check 3\n",
        "Wat kind is it?"
      ]
    },
    {
      "cell_type": "code",
      "metadata": {
        "id": "w_5EXQ5mL_GS"
      },
      "source": [
        "df.info()"
      ],
      "execution_count": null,
      "outputs": []
    },
    {
      "cell_type": "markdown",
      "metadata": {
        "id": "k3znwB4Ugduy"
      },
      "source": [
        "##### Check 4\n",
        "What are the typical values?"
      ]
    },
    {
      "cell_type": "code",
      "metadata": {
        "id": "zO50MBfmL_GS"
      },
      "source": [
        "df.describe().T"
      ],
      "execution_count": null,
      "outputs": []
    },
    {
      "cell_type": "markdown",
      "metadata": {
        "id": "OhDIrgneL0T7"
      },
      "source": [
        "#### Panda Plotting\n",
        "\n",
        "Pandas can conveniently plot the contents of a dataframe.\n",
        "\n",
        "It uses **matplotlib** behind-the-scenes, so it should look familiar. \n",
        "\n"
      ]
    },
    {
      "cell_type": "markdown",
      "metadata": {
        "id": "3X2G7VYkgwqu"
      },
      "source": [
        "##### Example 1\n",
        "PLOT EVERYTHING!!!!!!!!1"
      ]
    },
    {
      "cell_type": "code",
      "metadata": {
        "id": "ls3jwLwWfjVi"
      },
      "source": [
        "ax1=df.plot();"
      ],
      "execution_count": null,
      "outputs": []
    },
    {
      "cell_type": "markdown",
      "metadata": {
        "id": "J254ln-ig2ED"
      },
      "source": [
        "##### Example 2\n",
        "Plot a specific pair of columns. \n",
        "\n",
        "Here we are using the keyword arguments `x` and `y` which refer simply to the column label. \n",
        "\n",
        "The `kind` keyword argument corresponds to which `matplotlib.pyplot.`*function*`()` to use. The default is line plots. "
      ]
    },
    {
      "cell_type": "code",
      "metadata": {
        "id": "YVdJVicjL_GS"
      },
      "source": [
        "ax1=df.plot(kind='scatter', \n",
        "            title=\"Price of Living Area\", \n",
        "            x=\"sqft_living\", \n",
        "            y=\"price\", \n",
        "            );"
      ],
      "execution_count": null,
      "outputs": []
    },
    {
      "cell_type": "markdown",
      "metadata": {
        "id": "XZGjPkjRhQaP"
      },
      "source": [
        "##### Exercise 1\n",
        "Pick two other columns and plot them. "
      ]
    },
    {
      "cell_type": "code",
      "metadata": {
        "id": "Z6th0UsrhWiq"
      },
      "source": [
        "#write your code here\n",
        "\n"
      ],
      "execution_count": null,
      "outputs": []
    },
    {
      "cell_type": "markdown",
      "metadata": {
        "id": "k_5nFSdlL95m"
      },
      "source": [
        "#### Pandas Histogram\n",
        "A histogram is a count of how many values fall within a given range for a given series. \n",
        "\n",
        "Pandas can conviently make a histogram of any column in the DataFrame. \n",
        "```\n",
        "df.hist()\n",
        "```"
      ]
    },
    {
      "cell_type": "markdown",
      "metadata": {
        "id": "UgCKBUN0ig-P"
      },
      "source": [
        "##### Example 3\n",
        "By default, it plots all of the them.\n",
        "\n",
        "here we are using the keyword argument `figsize` to make sure they are big enough to read. (because there are so many). "
      ]
    },
    {
      "cell_type": "code",
      "metadata": {
        "id": "XZKUH3liL_GT"
      },
      "source": [
        "df.hist(figsize=(20,20));"
      ],
      "execution_count": null,
      "outputs": []
    },
    {
      "cell_type": "markdown",
      "metadata": {
        "id": "_2gjWhdKi0Hx"
      },
      "source": [
        "##### Exercise 3\n",
        "Make a histogram of just one column. \n",
        "\n",
        "Hint: provide the name of the column as a regular argument."
      ]
    },
    {
      "cell_type": "code",
      "metadata": {
        "id": "i6d3o7EYi5Wr"
      },
      "source": [
        "# write your code here\n",
        "\n"
      ],
      "execution_count": null,
      "outputs": []
    },
    {
      "cell_type": "markdown",
      "metadata": {
        "id": "xcGNdWYAMMqC"
      },
      "source": [
        "#### Pandas correlation\n",
        "\n",
        "Pandas can compute the pairwise correlation of all the columns. \n",
        "\n",
        "```\n",
        "new_df = df.corr()\n",
        "```\n",
        "This is technically another DataFrame."
      ]
    },
    {
      "cell_type": "markdown",
      "metadata": {
        "id": "tpjZKx7wjguS"
      },
      "source": [
        "##### Example 4"
      ]
    },
    {
      "cell_type": "code",
      "metadata": {
        "id": "wAvpzTEGL_GT"
      },
      "source": [
        "df.corr()"
      ],
      "execution_count": null,
      "outputs": []
    },
    {
      "cell_type": "markdown",
      "metadata": {
        "id": "wUK0AoLajjYK"
      },
      "source": [
        "##### Example 5\n",
        "It is helpful if we style the correlation dataframe with colors indicating the strength of the correlation. \n",
        "\n",
        "\n",
        "\n",
        "OK, OK - It's technically not a plot; but it is still a kind of graphic. "
      ]
    },
    {
      "cell_type": "code",
      "metadata": {
        "id": "JBKP63C9jppu"
      },
      "source": [
        "corr_df = df.corr()\n",
        "stylish_corr_df = corr_df.style.background_gradient(cmap='coolwarm').set_precision(2)\n",
        "stylish_corr_df"
      ],
      "execution_count": null,
      "outputs": []
    },
    {
      "cell_type": "markdown",
      "metadata": {
        "id": "5l0sRM2VktjX"
      },
      "source": [
        "Notice any fun facts? "
      ]
    }
  ]
}