{
  "nbformat": 4,
  "nbformat_minor": 0,
  "metadata": {
    "kernelspec": {
      "display_name": "Python 3",
      "language": "python",
      "name": "python3"
    },
    "language_info": {
      "codemirror_mode": {
        "name": "ipython",
        "version": 3
      },
      "file_extension": ".py",
      "mimetype": "text/x-python",
      "name": "python",
      "nbconvert_exporter": "python",
      "pygments_lexer": "ipython3",
      "version": "3.8.8"
    },
    "colab": {
      "name": "Copy of 04_deep_learning_mnist.ipynb",
      "provenance": []
    }
  },
  "cells": [
    {
      "cell_type": "markdown",
      "metadata": {
        "id": "6eMRUuYFyQUJ"
      },
      "source": [
        "# Deep Learning with Keras\n",
        "\n",
        "Originally created by Dr. [Jian Tao](https://orcid.org/0000-0003-4228-6089), Texas A&M University\n",
        "\n",
        "Oct 29, 2021"
      ]
    },
    {
      "cell_type": "markdown",
      "metadata": {
        "id": "a8Hap6gZyQUL"
      },
      "source": [
        "## 1. Deep Learning\n",
        "Deep Learning (DL) is one cagegory of machine learning methods that are based on artificial neural networks to improve computer algorithms automatically through data.\n",
        "\n",
        "DL methods can be devided into:\n",
        "\n",
        "* Supervised Learning\n",
        "    * trained with labeled data; including regression and classification problems\n",
        "* Unsupervised Learning\n",
        "    * trained with unlabeled data; clustering and association rule learning problems.\n",
        "* Reinforcement Learning\n",
        "    * no training data; stochastic Markov decision process; robotics and self-driving cars.\n",
        "\n",
        "DL methods are useful primarily for the following reasons:\n",
        "\n",
        "* DL is computationally expensive, but it is capable of handling high dimensional data.\n",
        "* feature extraction is done automatically.\n",
        "\n",
        "![Deep Learning](https://github.com/happidence1/AILabs/blob/master/images/deeplearning.svg?raw=1)"
      ]
    },
    {
      "cell_type": "markdown",
      "metadata": {
        "id": "JcnAK-B0yQUM"
      },
      "source": [
        "## 2. Keras\n",
        "Keras is an open-source neural-network library written in Python. It is capable of running on top of TensorFlow, Microsoft Cognitive Toolkit (CNTK), or Theano.\n",
        "* Designed for fast experimentation with deep neural networks;\n",
        "* Focuses on being user-friendly, modular, and extensible;\n",
        "* TensorFlow 2.X adopted almost entirely Keras APIs and the TensorFlow backend (tf.keras) was recommended as the major release of * multi-backend Keras ceased at Version 2.3.0.\n",
        "* Keras -> tf.keras in the future.\n",
        "![Keras Workflow](https://github.com/happidence1/AILabs/blob/master/images/keras_workflow.svg?raw=1)"
      ]
    },
    {
      "cell_type": "code",
      "metadata": {
        "id": "kTmyy7fayQUN"
      },
      "source": [
        "import numpy as np\n",
        "import matplotlib.pyplot as plt"
      ],
      "execution_count": null,
      "outputs": []
    },
    {
      "cell_type": "markdown",
      "metadata": {
        "id": "xFx9n8YKyQUO"
      },
      "source": [
        "### 1.1 Linear Regression"
      ]
    },
    {
      "cell_type": "markdown",
      "metadata": {
        "id": "iHgHTabqyQUO"
      },
      "source": [
        "#### The data points to be fitted"
      ]
    },
    {
      "cell_type": "code",
      "metadata": {
        "id": "htfVf9dPyQUP"
      },
      "source": [
        "x = np.array([-1.0, 0.0, 1.0, 2.0, 3.0, 4.0, 5.0], dtype = float)\n",
        "y = 3.0 * x + 2.0 + 0.5 * np.random.randn(len(x))"
      ],
      "execution_count": null,
      "outputs": []
    },
    {
      "cell_type": "code",
      "metadata": {
        "id": "sARQOwh3yQUP",
        "colab": {
          "base_uri": "https://localhost:8080/",
          "height": 265
        },
        "outputId": "21de3e41-ef5d-42a9-be2f-a512048ce868"
      },
      "source": [
        "plt.scatter(x,y);\n",
        "plt.plot(x, 3*x+2);"
      ],
      "execution_count": null,
      "outputs": [
        {
          "output_type": "display_data",
          "data": {
            "image/png": "[encoded data removed]",
            "text/plain": [
              "<Figure size 432x288 with 1 Axes>"
            ]
          },
          "metadata": {
            "needs_background": "light"
          }
        }
      ]
    },
    {
      "cell_type": "markdown",
      "metadata": {
        "id": "Rs75Y5QuyQUR"
      },
      "source": [
        "#### Review Linear Regression with scikit-learn "
      ]
    },
    {
      "cell_type": "code",
      "metadata": {
        "id": "N9VfJJ5yyQUR",
        "colab": {
          "base_uri": "https://localhost:8080/",
          "height": 269
        },
        "outputId": "d5087eba-dfca-4234-8906-81d44792943e"
      },
      "source": [
        "from sklearn.linear_model import LinearRegression\n",
        "sk_model = LinearRegression()\n",
        "\n",
        "# use the data points defined above\n",
        "sk_x = x[:, np.newaxis]\n",
        "sk_y = y\n",
        "\n",
        "# fit the model with sklearn\n",
        "sk_model.fit(sk_x, sk_y);\n",
        "\n",
        "# make predictions\n",
        "sk_yfit = sk_model.predict(sk_x)\n",
        "\n",
        "# plot the fitted line with the equation\n",
        "plt.scatter(sk_x,sk_y);\n",
        "plt.plot(sk_x, sk_yfit);\n",
        "plt.text(-1.0, 15, r\"Y = %f *x + %f\"%(sk_model.coef_, sk_model.intercept_), fontsize=15);"
      ],
      "execution_count": null,
      "outputs": [
        {
          "output_type": "display_data",
          "data": {
            "image/png": "[encoded data removed]",
            "text/plain": [
              "<Figure size 432x288 with 1 Axes>"
            ]
          },
          "metadata": {
            "needs_background": "light"
          }
        }
      ]
    },
    {
      "cell_type": "markdown",
      "metadata": {
        "id": "225NfcvoyQUS"
      },
      "source": [
        "#### Linear Regression with Keras"
      ]
    },
    {
      "cell_type": "code",
      "metadata": {
        "id": "5e9NgCo1yQUS"
      },
      "source": [
        "from tensorflow.keras import Sequential\n",
        "from tensorflow.keras.layers import Dense\n",
        "# units: Positive integer, dimensionality of the output space.\n",
        "# When a popular kwarg input_shape is passed, then keras will create an input layer to insert before the current layer. \n",
        "# This can be treated equivalent to explicitly defining an InputLayer.\n",
        "model = Sequential(Dense(units=1, input_shape=[1]))\n",
        "model.compile(optimizer='sgd', loss='mean_squared_error')\n",
        "model.fit(x,y,epochs=500, verbose=0);"
      ],
      "execution_count": null,
      "outputs": []
    },
    {
      "cell_type": "code",
      "metadata": {
        "id": "9oMDj6KsyQUS"
      },
      "source": [
        "yfit = model.predict(x)"
      ],
      "execution_count": null,
      "outputs": []
    },
    {
      "cell_type": "code",
      "metadata": {
        "id": "VIdboKrvyQUT",
        "colab": {
          "base_uri": "https://localhost:8080/",
          "height": 269
        },
        "outputId": "e5d1c84e-705e-4826-9cb1-58ac79fb3ca7"
      },
      "source": [
        "plt.scatter(x, y);\n",
        "plt.plot(x, yfit);\n",
        "plt.text(-1.0, 15, r\"Y = %f *x + %f\"%(tuple(model.get_weights())), fontsize=15);"
      ],
      "execution_count": null,
      "outputs": [
        {
          "output_type": "display_data",
          "data": {
            "image/png": "[encoded data removed]",
            "text/plain": [
              "<Figure size 432x288 with 1 Axes>"
            ]
          },
          "metadata": {
            "needs_background": "light"
          }
        }
      ]
    },
    {
      "cell_type": "markdown",
      "metadata": {
        "id": "U36t9kJtyQUT"
      },
      "source": [
        "### 1.2 Classify Handwritten Digits with Keras\n",
        "Layers are the fundamental building blocks of Keras models. A wide variety of Keras functions are dedicated to create different kind of layers and connect them to form a deep learning network."
      ]
    },
    {
      "cell_type": "code",
      "metadata": {
        "id": "XBsjaQk3yQUU"
      },
      "source": [
        "from tensorflow.keras import utils, callbacks, models\n",
        "from tensorflow.keras.datasets import mnist\n",
        "from tensorflow.keras.layers import Flatten\n",
        "import os, datetime"
      ],
      "execution_count": null,
      "outputs": []
    },
    {
      "cell_type": "code",
      "metadata": {
        "id": "LIhd_crYyQUU",
        "colab": {
          "base_uri": "https://localhost:8080/"
        },
        "outputId": "bd6fa543-ec95-4c09-9ca2-fd10229becd0"
      },
      "source": [
        "(x_train, y_train), (x_test, y_test) = mnist.load_data()"
      ],
      "execution_count": null,
      "outputs": [
        {
          "output_type": "stream",
          "name": "stdout",
          "text": [
            "Downloading data from https://storage.googleapis.com/tensorflow/tf-keras-datasets/mnist.npz\n",
            "11493376/11490434 [==============================] - 0s 0us/step\n",
            "11501568/11490434 [==============================] - 0s 0us/step\n"
          ]
        }
      ]
    },
    {
      "cell_type": "code",
      "metadata": {
        "id": "F2gEeOdCyQUU",
        "colab": {
          "base_uri": "https://localhost:8080/",
          "height": 277
        },
        "outputId": "eab2e5dd-b8cf-4818-cdc5-c5326ce809b8"
      },
      "source": [
        "# show the first image in the data set\n",
        "#plt.imshow(x_train[0], cmap=\"gray\") # Import the image\n",
        "#plt.show() # Plot the image\n",
        "\n",
        "# show the first 15 images in the data set.\n",
        "fig = plt.figure()\n",
        "for i in range(15):\n",
        "  plt.subplot(3,5,i+1)\n",
        "  plt.tight_layout()\n",
        "  plt.imshow(x_train[i], cmap='gray', interpolation='none')\n",
        "  plt.title(\"Digit: {}\".format(y_train[i]))\n",
        "  plt.xticks([])\n",
        "  plt.yticks([])"
      ],
      "execution_count": null,
      "outputs": [
        {
          "output_type": "display_data",
          "data": {
            "image/png": "[encoded data removed]",
            "text/plain": [
              "<Figure size 432x288 with 15 Axes>"
            ]
          },
          "metadata": {}
        }
      ]
    },
    {
      "cell_type": "code",
      "metadata": {
        "id": "VbnT6qWdyQUV"
      },
      "source": [
        "# Normalize the train dataset\n",
        "x_train = utils.normalize(x_train, axis=1)\n",
        "# Normalize the test dataset\n",
        "x_test = utils.normalize(x_test, axis=1)"
      ],
      "execution_count": null,
      "outputs": []
    },
    {
      "cell_type": "code",
      "metadata": {
        "colab": {
          "base_uri": "https://localhost:8080/"
        },
        "id": "RjHh5rSN-GZg",
        "outputId": "fc559846-3079-47d4-d9a5-efd06f4835cc"
      },
      "source": [
        "x_train.shape"
      ],
      "execution_count": null,
      "outputs": [
        {
          "output_type": "execute_result",
          "data": {
            "text/plain": [
              "(60000, 28, 28)"
            ]
          },
          "metadata": {},
          "execution_count": 19
        }
      ]
    },
    {
      "cell_type": "code",
      "metadata": {
        "id": "8yvYYdumyQUV"
      },
      "source": [
        "#Build the model object\n",
        "model = Sequential()\n",
        "# Add the Flatten Layer\n",
        "model.add(Flatten())\n",
        "# Build the input and the hidden layers\n",
        "model.add(Dense(128, activation='relu'))\n",
        "model.add(Dense(128, activation='relu'))\n",
        "# Build the output layer\n",
        "model.add(Dense(10, activation='softmax'))"
      ],
      "execution_count": null,
      "outputs": []
    },
    {
      "cell_type": "code",
      "metadata": {
        "id": "zAl9VHHzyQUV"
      },
      "source": [
        "# Compile the model\n",
        "model.compile(optimizer=\"adam\", loss=\"sparse_categorical_crossentropy\", metrics=[\"accuracy\"])"
      ],
      "execution_count": null,
      "outputs": []
    },
    {
      "cell_type": "code",
      "metadata": {
        "id": "iDo7ZeYzyQUV"
      },
      "source": [
        "# This is needed for loading Tensorboard.\n",
        "log_dir = os.path.join(\"logs\", datetime.datetime.now().strftime(\"%Y%m%d-%H%M%S\"))\n",
        "# log_dir: the path of the directory where to save the log files to be parsed by TensorBoard.\n",
        "# histogram_freq: frequency (in epochs) at which to compute activation and weight histograms for the layers of the model. \n",
        "# If set to 0, histograms won't be computed. \n",
        "tensorboard_callback = callbacks.TensorBoard(log_dir=log_dir, histogram_freq=1)"
      ],
      "execution_count": null,
      "outputs": []
    },
    {
      "cell_type": "code",
      "metadata": {
        "colab": {
          "base_uri": "https://localhost:8080/",
          "height": 35
        },
        "id": "qtfw7mOX7Zyt",
        "outputId": "7b9b4fba-c048-4711-8058-6f67886ee2c4"
      },
      "source": [
        "datetime.datetime.now().strftime(\"%Y%m%d-%H%M%S\")"
      ],
      "execution_count": null,
      "outputs": [
        {
          "output_type": "execute_result",
          "data": {
            "application/vnd.google.colaboratory.intrinsic+json": {
              "type": "string"
            },
            "text/plain": [
              "'20211023-021433'"
            ]
          },
          "metadata": {},
          "execution_count": 15
        }
      ]
    },
    {
      "cell_type": "code",
      "metadata": {
        "id": "SsIavtaqyQUV",
        "colab": {
          "base_uri": "https://localhost:8080/"
        },
        "outputId": "5eba456e-9cd9-43eb-9714-e596933c9173"
      },
      "source": [
        "model.fit(x=x_train, y=y_train, epochs=1, callbacks=[tensorboard_callback]) # Start training process"
      ],
      "execution_count": null,
      "outputs": [
        {
          "output_type": "stream",
          "name": "stdout",
          "text": [
            "1875/1875 [==============================] - 5s 2ms/step - loss: 0.2639 - accuracy: 0.9232\n"
          ]
        },
        {
          "output_type": "execute_result",
          "data": {
            "text/plain": [
              "<keras.callbacks.History at 0x7f30a9be3c10>"
            ]
          },
          "metadata": {},
          "execution_count": 16
        }
      ]
    },
    {
      "cell_type": "code",
      "metadata": {
        "id": "O5qseNJVyQUW",
        "colab": {
          "base_uri": "https://localhost:8080/"
        },
        "outputId": "f9ea0202-bb22-4ff3-cf58-28acd7023b75"
      },
      "source": [
        "model.summary()"
      ],
      "execution_count": null,
      "outputs": [
        {
          "output_type": "stream",
          "name": "stdout",
          "text": [
            "Model: \"sequential_1\"\n",
            "_________________________________________________________________\n",
            "Layer (type)                 Output Shape              Param #   \n",
            "=================================================================\n",
            "flatten (Flatten)            (32, 784)                 0         \n",
            "_________________________________________________________________\n",
            "dense_1 (Dense)              (32, 128)                 100480    \n",
            "_________________________________________________________________\n",
            "dense_2 (Dense)              (32, 128)                 16512     \n",
            "_________________________________________________________________\n",
            "dense_3 (Dense)              (32, 10)                  1290      \n",
            "=================================================================\n",
            "Total params: 118,282\n",
            "Trainable params: 118,282\n",
            "Non-trainable params: 0\n",
            "_________________________________________________________________\n"
          ]
        }
      ]
    },
    {
      "cell_type": "code",
      "metadata": {
        "id": "NwfNRMjuyQUW",
        "colab": {
          "base_uri": "https://localhost:8080/"
        },
        "outputId": "82404535-0da2-4db3-8733-ae0002348deb"
      },
      "source": [
        "# Evaluate the model performance\n",
        "test_loss, test_acc = model.evaluate(x=x_test, y=y_test, verbose=0)\n",
        "# Print out the model accuracy \n",
        "print('\\nTest accuracy:', test_acc)"
      ],
      "execution_count": null,
      "outputs": [
        {
          "output_type": "stream",
          "name": "stdout",
          "text": [
            "\n",
            "Test accuracy: 0.9581000208854675\n"
          ]
        }
      ]
    },
    {
      "cell_type": "code",
      "metadata": {
        "id": "qjfJk4QuyQUW"
      },
      "source": [
        "# Save model into MNIST.h5 and we are all done with the training now.\n",
        "model.save('MNIST.h5')"
      ],
      "execution_count": null,
      "outputs": []
    },
    {
      "cell_type": "code",
      "metadata": {
        "id": "aGz7keUXyQUX"
      },
      "source": [
        "model = models.load_model('MNIST.h5')"
      ],
      "execution_count": null,
      "outputs": []
    },
    {
      "cell_type": "code",
      "metadata": {
        "id": "fVjx0R3XyQUX"
      },
      "source": [
        "predictions = model.predict(x_test)"
      ],
      "execution_count": null,
      "outputs": []
    },
    {
      "cell_type": "code",
      "metadata": {
        "id": "13TgzB55yQUX"
      },
      "source": [
        "# function that plots a single image.\n",
        "def test_digit(i):\n",
        "  plt.imshow(x_test[i], interpolation='none')\n",
        "  plt.title(\"digit:%d   prediction: %d\" %(y_test[i], np.argmax(predictions[i])))\n",
        "  plt.xticks([])\n",
        "  plt.yticks([])    "
      ],
      "execution_count": null,
      "outputs": []
    },
    {
      "cell_type": "code",
      "metadata": {
        "id": "xAbEaZpZyQUX",
        "colab": {
          "base_uri": "https://localhost:8080/",
          "height": 268
        },
        "outputId": "b649b775-1ee6-41b0-aa37-b64336792a51"
      },
      "source": [
        "# let's output the images which were not predicted correctly.\n",
        "for i in range(len(x_test)):\n",
        "    if np.argmax(predictions[i]) != y_test[i]:\n",
        "        test_digit(i)"
      ],
      "execution_count": null,
      "outputs": [
        {
          "output_type": "display_data",
          "data": {
            "image/png": "[encoded data removed]",
            "text/plain": [
              "<Figure size 432x288 with 1 Axes>"
            ]
          },
          "metadata": {}
        }
      ]
    }
  ]
}